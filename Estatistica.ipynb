{
 "cells": [
  {
   "cell_type": "markdown",
   "metadata": {},
   "source": [
    "# Estátistica usando python e pandas\n"
   ]
  },
  {
   "cell_type": "markdown",
   "metadata": {},
   "source": [
    "**Importação de bibliotecas necessárias** "
   ]
  },
  {
   "cell_type": "code",
   "execution_count": 16,
   "metadata": {},
   "outputs": [],
   "source": [
    "\n",
    "import pandas as pd\n",
    "import matplotlib.pyplot as plt\n",
    "%matplotlib inline\n",
    "import random\n",
    "\n",
    "\n",
    "low_memory=False\n"
   ]
  },
  {
   "cell_type": "markdown",
   "metadata": {},
   "source": [
    "**Criação de uma lista de números aleatórios e separação em classes**"
   ]
  },
  {
   "cell_type": "code",
   "execution_count": 17,
   "metadata": {},
   "outputs": [],
   "source": [
    "\n",
    "lista = []\n",
    "\n",
    "for i in range(36):\n",
    "    lista.append(random.randint(0,36))\n",
    "\n",
    "lista.sort()\n",
    "lista2 = list(lista)\n",
    "\n",
    "#Divisão do número de classes\n",
    "k = len(lista)**0.5\n",
    "\n",
    "#aplitude de cada classe\n",
    "h = max(lista) - min(lista) \n",
    "h = int(h / k)"
   ]
  },
  {
   "cell_type": "code",
   "execution_count": 18,
   "metadata": {},
   "outputs": [
    {
     "data": {
      "text/plain": [
       "[2,\n",
       " 2,\n",
       " 2,\n",
       " 4,\n",
       " 4,\n",
       " 6,\n",
       " 11,\n",
       " 11,\n",
       " 11,\n",
       " 13,\n",
       " 15,\n",
       " 16,\n",
       " 16,\n",
       " 17,\n",
       " 17,\n",
       " 17,\n",
       " 17,\n",
       " 21,\n",
       " 21,\n",
       " 23,\n",
       " 24,\n",
       " 25,\n",
       " 26,\n",
       " 26,\n",
       " 26,\n",
       " 27,\n",
       " 27,\n",
       " 27,\n",
       " 31,\n",
       " 31,\n",
       " 32,\n",
       " 32,\n",
       " 33,\n",
       " 33,\n",
       " 33,\n",
       " 36]"
      ]
     },
     "execution_count": 18,
     "metadata": {},
     "output_type": "execute_result"
    }
   ],
   "source": [
    "lista2\n"
   ]
  },
  {
   "cell_type": "code",
   "execution_count": 19,
   "metadata": {
    "scrolled": true
   },
   "outputs": [
    {
     "name": "stdout",
     "output_type": "stream",
     "text": [
      "[2, 2, 2, 4, 4, 6, 11, 11, 11, 13, 15, 16, 16, 17, 17, 17, 17, 21, 21, 23, 24, 25, 26, 26, 26, 27, 27, 27, 31, 31, 32, 32, 33, 33, 33, 36]\n",
      "[6, 11, 11, 11, 13, 15, 16, 16, 17, 17, 17, 17, 21, 21, 23, 24, 25, 26, 26, 26, 27, 27, 27, 31, 31, 32, 32, 33, 33, 33, 36]\n",
      "[15, 16, 16, 17, 17, 17, 17, 21, 21, 23, 24, 25, 26, 26, 26, 27, 27, 27, 31, 31, 32, 32, 33, 33, 33, 36]\n",
      "[17, 17, 21, 21, 23, 24, 25, 26, 26, 26, 27, 27, 27, 31, 31, 32, 32, 33, 33, 33, 36]\n",
      "[24, 25, 26, 26, 26, 27, 27, 27, 31, 31, 32, 32, 33, 33, 33, 36]\n",
      "[27, 27, 27, 31, 31, 32, 32, 33, 33, 33, 36]\n"
     ]
    }
   ],
   "source": [
    "tamanho = len(lista) \n",
    "fa = 0\n",
    "fra = 0\n",
    "fr = 0\n",
    "df = pd.DataFrame(columns=['Frequencia', 'Freq. Acumulada', 'Frequencia Relativa', 'Freq. Rel. Acumulada'])\n",
    "for i in range(int(k)):\n",
    "    print(lista)\n",
    "    aux = lista[:h] \n",
    "    #print(aux)\n",
    "    if len(aux) > 0:\n",
    "        li = min(aux)\n",
    "        ls = max(aux)\n",
    "        fa += len(aux)\n",
    "        fr = len(aux)/tamanho*100\n",
    "        fra += len(aux)/tamanho*100\n",
    "    df.loc[str(li) + ' |- ' + str(ls)] = [len(aux), fa, fr, fra] \n",
    "    lista = lista[h:]\n"
   ]
  },
  {
   "cell_type": "markdown",
   "metadata": {},
   "source": [
    "**Divisão em classes**"
   ]
  },
  {
   "cell_type": "code",
   "execution_count": 20,
   "metadata": {},
   "outputs": [
    {
     "data": {
      "text/html": [
       "<div>\n",
       "<style scoped>\n",
       "    .dataframe tbody tr th:only-of-type {\n",
       "        vertical-align: middle;\n",
       "    }\n",
       "\n",
       "    .dataframe tbody tr th {\n",
       "        vertical-align: top;\n",
       "    }\n",
       "\n",
       "    .dataframe thead th {\n",
       "        text-align: right;\n",
       "    }\n",
       "</style>\n",
       "<table border=\"1\" class=\"dataframe\">\n",
       "  <thead>\n",
       "    <tr style=\"text-align: right;\">\n",
       "      <th></th>\n",
       "      <th>Frequencia</th>\n",
       "      <th>Freq. Acumulada</th>\n",
       "      <th>Frequencia Relativa</th>\n",
       "      <th>Freq. Rel. Acumulada</th>\n",
       "    </tr>\n",
       "  </thead>\n",
       "  <tbody>\n",
       "    <tr>\n",
       "      <th>2 |- 4</th>\n",
       "      <td>5.0</td>\n",
       "      <td>5.0</td>\n",
       "      <td>13.888889</td>\n",
       "      <td>13.888889</td>\n",
       "    </tr>\n",
       "    <tr>\n",
       "      <th>6 |- 13</th>\n",
       "      <td>5.0</td>\n",
       "      <td>10.0</td>\n",
       "      <td>13.888889</td>\n",
       "      <td>27.777778</td>\n",
       "    </tr>\n",
       "    <tr>\n",
       "      <th>15 |- 17</th>\n",
       "      <td>5.0</td>\n",
       "      <td>15.0</td>\n",
       "      <td>13.888889</td>\n",
       "      <td>41.666667</td>\n",
       "    </tr>\n",
       "    <tr>\n",
       "      <th>17 |- 23</th>\n",
       "      <td>5.0</td>\n",
       "      <td>20.0</td>\n",
       "      <td>13.888889</td>\n",
       "      <td>55.555556</td>\n",
       "    </tr>\n",
       "    <tr>\n",
       "      <th>24 |- 26</th>\n",
       "      <td>5.0</td>\n",
       "      <td>25.0</td>\n",
       "      <td>13.888889</td>\n",
       "      <td>69.444444</td>\n",
       "    </tr>\n",
       "    <tr>\n",
       "      <th>27 |- 31</th>\n",
       "      <td>5.0</td>\n",
       "      <td>30.0</td>\n",
       "      <td>13.888889</td>\n",
       "      <td>83.333333</td>\n",
       "    </tr>\n",
       "  </tbody>\n",
       "</table>\n",
       "</div>"
      ],
      "text/plain": [
       "          Frequencia  Freq. Acumulada  Frequencia Relativa  \\\n",
       "2 |- 4           5.0              5.0            13.888889   \n",
       "6 |- 13          5.0             10.0            13.888889   \n",
       "15 |- 17         5.0             15.0            13.888889   \n",
       "17 |- 23         5.0             20.0            13.888889   \n",
       "24 |- 26         5.0             25.0            13.888889   \n",
       "27 |- 31         5.0             30.0            13.888889   \n",
       "\n",
       "          Freq. Rel. Acumulada  \n",
       "2 |- 4               13.888889  \n",
       "6 |- 13              27.777778  \n",
       "15 |- 17             41.666667  \n",
       "17 |- 23             55.555556  \n",
       "24 |- 26             69.444444  \n",
       "27 |- 31             83.333333  "
      ]
     },
     "execution_count": 20,
     "metadata": {},
     "output_type": "execute_result"
    }
   ],
   "source": [
    "df"
   ]
  },
  {
   "cell_type": "code",
   "execution_count": 21,
   "metadata": {},
   "outputs": [
    {
     "data": {
      "text/html": [
       "<div>\n",
       "<style scoped>\n",
       "    .dataframe tbody tr th:only-of-type {\n",
       "        vertical-align: middle;\n",
       "    }\n",
       "\n",
       "    .dataframe tbody tr th {\n",
       "        vertical-align: top;\n",
       "    }\n",
       "\n",
       "    .dataframe thead th {\n",
       "        text-align: right;\n",
       "    }\n",
       "</style>\n",
       "<table border=\"1\" class=\"dataframe\">\n",
       "  <thead>\n",
       "    <tr style=\"text-align: right;\">\n",
       "      <th></th>\n",
       "      <th>Frequencia</th>\n",
       "      <th>Freq. Acumulada</th>\n",
       "      <th>Frequencia Relativa</th>\n",
       "      <th>Freq. Rel. Acumulada</th>\n",
       "    </tr>\n",
       "  </thead>\n",
       "  <tbody>\n",
       "    <tr>\n",
       "      <th>count</th>\n",
       "      <td>6.0</td>\n",
       "      <td>6.000000</td>\n",
       "      <td>6.000000e+00</td>\n",
       "      <td>6.000000</td>\n",
       "    </tr>\n",
       "    <tr>\n",
       "      <th>mean</th>\n",
       "      <td>5.0</td>\n",
       "      <td>17.500000</td>\n",
       "      <td>1.388889e+01</td>\n",
       "      <td>48.611111</td>\n",
       "    </tr>\n",
       "    <tr>\n",
       "      <th>std</th>\n",
       "      <td>0.0</td>\n",
       "      <td>9.354143</td>\n",
       "      <td>1.945901e-15</td>\n",
       "      <td>25.983732</td>\n",
       "    </tr>\n",
       "    <tr>\n",
       "      <th>min</th>\n",
       "      <td>5.0</td>\n",
       "      <td>5.000000</td>\n",
       "      <td>1.388889e+01</td>\n",
       "      <td>13.888889</td>\n",
       "    </tr>\n",
       "    <tr>\n",
       "      <th>25%</th>\n",
       "      <td>5.0</td>\n",
       "      <td>11.250000</td>\n",
       "      <td>1.388889e+01</td>\n",
       "      <td>31.250000</td>\n",
       "    </tr>\n",
       "    <tr>\n",
       "      <th>50%</th>\n",
       "      <td>5.0</td>\n",
       "      <td>17.500000</td>\n",
       "      <td>1.388889e+01</td>\n",
       "      <td>48.611111</td>\n",
       "    </tr>\n",
       "    <tr>\n",
       "      <th>75%</th>\n",
       "      <td>5.0</td>\n",
       "      <td>23.750000</td>\n",
       "      <td>1.388889e+01</td>\n",
       "      <td>65.972222</td>\n",
       "    </tr>\n",
       "    <tr>\n",
       "      <th>max</th>\n",
       "      <td>5.0</td>\n",
       "      <td>30.000000</td>\n",
       "      <td>1.388889e+01</td>\n",
       "      <td>83.333333</td>\n",
       "    </tr>\n",
       "  </tbody>\n",
       "</table>\n",
       "</div>"
      ],
      "text/plain": [
       "       Frequencia  Freq. Acumulada  Frequencia Relativa  Freq. Rel. Acumulada\n",
       "count         6.0         6.000000         6.000000e+00              6.000000\n",
       "mean          5.0        17.500000         1.388889e+01             48.611111\n",
       "std           0.0         9.354143         1.945901e-15             25.983732\n",
       "min           5.0         5.000000         1.388889e+01             13.888889\n",
       "25%           5.0        11.250000         1.388889e+01             31.250000\n",
       "50%           5.0        17.500000         1.388889e+01             48.611111\n",
       "75%           5.0        23.750000         1.388889e+01             65.972222\n",
       "max           5.0        30.000000         1.388889e+01             83.333333"
      ]
     },
     "execution_count": 21,
     "metadata": {},
     "output_type": "execute_result"
    }
   ],
   "source": [
    "df.describe()"
   ]
  },
  {
   "cell_type": "markdown",
   "metadata": {},
   "source": [
    "**Frequencia de cada classe**"
   ]
  },
  {
   "cell_type": "code",
   "execution_count": 22,
   "metadata": {},
   "outputs": [
    {
     "data": {
      "text/plain": [
       "<matplotlib.axes._subplots.AxesSubplot at 0x22afdb204e0>"
      ]
     },
     "execution_count": 22,
     "metadata": {},
     "output_type": "execute_result"
    },
    {
     "data": {
      "image/png": "[encoded data removed]",
      "text/plain": [
       "<Figure size 432x288 with 1 Axes>"
      ]
     },
     "metadata": {
      "needs_background": "light"
     },
     "output_type": "display_data"
    }
   ],
   "source": [
    "df['Frequencia'].plot(kind='bar')"
   ]
  },
  {
   "cell_type": "markdown",
   "metadata": {},
   "source": [
    "## Criação de uma lista para conseguir moda, mediana, média\n"
   ]
  },
  {
   "cell_type": "code",
   "execution_count": 23,
   "metadata": {},
   "outputs": [
    {
     "name": "stdout",
     "output_type": "stream",
     "text": [
      "7.071067811865475\n",
      "14.142135623730951\n"
     ]
    }
   ],
   "source": [
    "nums = []\n",
    "\n",
    "for i in range(200):\n",
    "    nums.append(random.randint(0,100))\n",
    "\n",
    "nums.sort()\n",
    "#Divisão do número de classes\n",
    "k = len(nums)**0.5\n",
    "\n",
    "#aplitude de cada classe\n",
    "h = max(nums) - min(nums) \n",
    "h = h / k\n",
    "print(h)\n",
    "print(k)"
   ]
  },
  {
   "cell_type": "code",
   "execution_count": 24,
   "metadata": {},
   "outputs": [],
   "source": [
    "soma = 0\n",
    "media = 0\n",
    "for i in nums:\n",
    "    soma += i\n",
    "media = soma/len(nums)"
   ]
  },
  {
   "cell_type": "code",
   "execution_count": 25,
   "metadata": {},
   "outputs": [
    {
     "data": {
      "text/plain": [
       "[2435.4225,\n",
       " 2435.4225,\n",
       " 2435.4225,\n",
       " 2337.7225000000003,\n",
       " 2337.7225000000003,\n",
       " 2242.0225,\n",
       " 2148.3225,\n",
       " 2056.6225,\n",
       " 1966.9225000000001,\n",
       " 1879.2225,\n",
       " 1879.2225,\n",
       " 1879.2225,\n",
       " 1709.8225000000002,\n",
       " 1628.1225000000002,\n",
       " 1628.1225000000002,\n",
       " 1628.1225000000002,\n",
       " 1548.4225000000001,\n",
       " 1548.4225000000001,\n",
       " 1548.4225000000001,\n",
       " 1470.7225,\n",
       " 1470.7225,\n",
       " 1470.7225,\n",
       " 1395.0225,\n",
       " 1321.3225000000002,\n",
       " 1249.6225000000002,\n",
       " 1249.6225000000002,\n",
       " 1249.6225000000002,\n",
       " 1179.9225000000001,\n",
       " 1179.9225000000001,\n",
       " 1112.2225,\n",
       " 1112.2225,\n",
       " 1112.2225,\n",
       " 1112.2225,\n",
       " 1046.5225,\n",
       " 982.8225000000001,\n",
       " 982.8225000000001,\n",
       " 982.8225000000001,\n",
       " 921.1225000000001,\n",
       " 921.1225000000001,\n",
       " 861.4225000000001,\n",
       " 861.4225000000001,\n",
       " 803.7225000000001,\n",
       " 803.7225000000001,\n",
       " 803.7225000000001,\n",
       " 748.0225,\n",
       " 748.0225,\n",
       " 748.0225,\n",
       " 694.3225000000001,\n",
       " 694.3225000000001,\n",
       " 642.6225000000001,\n",
       " 642.6225000000001,\n",
       " 592.9225,\n",
       " 592.9225,\n",
       " 545.2225000000001,\n",
       " 545.2225000000001,\n",
       " 545.2225000000001,\n",
       " 455.82250000000005,\n",
       " 455.82250000000005,\n",
       " 455.82250000000005,\n",
       " 455.82250000000005,\n",
       " 414.12250000000006,\n",
       " 414.12250000000006,\n",
       " 374.42250000000007,\n",
       " 336.7225,\n",
       " 336.7225,\n",
       " 336.7225,\n",
       " 301.02250000000004,\n",
       " 301.02250000000004,\n",
       " 301.02250000000004,\n",
       " 301.02250000000004,\n",
       " 301.02250000000004,\n",
       " 267.32250000000005,\n",
       " 267.32250000000005,\n",
       " 267.32250000000005,\n",
       " 235.62250000000003,\n",
       " 205.92250000000004,\n",
       " 205.92250000000004,\n",
       " 152.52250000000004,\n",
       " 152.52250000000004,\n",
       " 152.52250000000004,\n",
       " 128.82250000000002,\n",
       " 87.42250000000003,\n",
       " 69.72250000000003,\n",
       " 54.02250000000002,\n",
       " 54.02250000000002,\n",
       " 40.32250000000002,\n",
       " 40.32250000000002,\n",
       " 40.32250000000002,\n",
       " 28.622500000000016,\n",
       " 18.922500000000014,\n",
       " 18.922500000000014,\n",
       " 11.222500000000009,\n",
       " 11.222500000000009,\n",
       " 5.522500000000007,\n",
       " 5.522500000000007,\n",
       " 5.522500000000007,\n",
       " 5.522500000000007,\n",
       " 1.8225000000000038,\n",
       " 1.8225000000000038,\n",
       " 0.122500000000001,\n",
       " 0.42249999999999815,\n",
       " 2.7224999999999953,\n",
       " 2.7224999999999953,\n",
       " 2.7224999999999953,\n",
       " 7.022499999999993,\n",
       " 13.32249999999999,\n",
       " 13.32249999999999,\n",
       " 31.922499999999985,\n",
       " 31.922499999999985,\n",
       " 31.922499999999985,\n",
       " 44.22249999999998,\n",
       " 44.22249999999998,\n",
       " 44.22249999999998,\n",
       " 44.22249999999998,\n",
       " 44.22249999999998,\n",
       " 44.22249999999998,\n",
       " 44.22249999999998,\n",
       " 58.52249999999998,\n",
       " 58.52249999999998,\n",
       " 58.52249999999998,\n",
       " 74.82249999999998,\n",
       " 93.12249999999997,\n",
       " 93.12249999999997,\n",
       " 93.12249999999997,\n",
       " 93.12249999999997,\n",
       " 113.42249999999997,\n",
       " 113.42249999999997,\n",
       " 160.02249999999995,\n",
       " 186.32249999999996,\n",
       " 186.32249999999996,\n",
       " 214.62249999999995,\n",
       " 214.62249999999995,\n",
       " 214.62249999999995,\n",
       " 244.92249999999996,\n",
       " 244.92249999999996,\n",
       " 244.92249999999996,\n",
       " 277.22249999999997,\n",
       " 277.22249999999997,\n",
       " 311.5224999999999,\n",
       " 347.82249999999993,\n",
       " 347.82249999999993,\n",
       " 386.12249999999995,\n",
       " 426.42249999999996,\n",
       " 468.7224999999999,\n",
       " 513.0224999999999,\n",
       " 513.0224999999999,\n",
       " 559.3224999999999,\n",
       " 559.3224999999999,\n",
       " 559.3224999999999,\n",
       " 559.3224999999999,\n",
       " 559.3224999999999,\n",
       " 607.6225,\n",
       " 657.9224999999999,\n",
       " 657.9224999999999,\n",
       " 657.9224999999999,\n",
       " 657.9224999999999,\n",
       " 710.2225,\n",
       " 764.5224999999999,\n",
       " 764.5224999999999,\n",
       " 879.1225,\n",
       " 939.4224999999999,\n",
       " 939.4224999999999,\n",
       " 939.4224999999999,\n",
       " 1001.7224999999999,\n",
       " 1066.0224999999998,\n",
       " 1200.6225,\n",
       " 1200.6225,\n",
       " 1200.6225,\n",
       " 1200.6225,\n",
       " 1270.9225,\n",
       " 1343.2224999999999,\n",
       " 1343.2224999999999,\n",
       " 1417.5224999999998,\n",
       " 1417.5224999999998,\n",
       " 1417.5224999999998,\n",
       " 1572.1225,\n",
       " 1572.1225,\n",
       " 1652.4225,\n",
       " 1652.4225,\n",
       " 1652.4225,\n",
       " 1734.7224999999999,\n",
       " 1734.7224999999999,\n",
       " 1734.7224999999999,\n",
       " 1734.7224999999999,\n",
       " 1905.3224999999998,\n",
       " 1905.3224999999998,\n",
       " 1905.3224999999998,\n",
       " 1993.6225,\n",
       " 2083.9224999999997,\n",
       " 2083.9224999999997,\n",
       " 2083.9224999999997,\n",
       " 2083.9224999999997,\n",
       " 2083.9224999999997,\n",
       " 2176.2225,\n",
       " 2176.2225,\n",
       " 2366.8224999999998,\n",
       " 2366.8224999999998,\n",
       " 2465.1225,\n",
       " 2565.4224999999997,\n",
       " 2565.4224999999997]"
      ]
     },
     "execution_count": 25,
     "metadata": {},
     "output_type": "execute_result"
    }
   ],
   "source": [
    "aux = []\n",
    "for i in nums:\n",
    "    aux.append((i-media)**2)\n",
    "\n",
    "aux"
   ]
  },
  {
   "cell_type": "markdown",
   "metadata": {},
   "source": [
    "**Resultado da Variancia e o Desvio Padrão**"
   ]
  },
  {
   "cell_type": "code",
   "execution_count": 26,
   "metadata": {},
   "outputs": [
    {
     "name": "stdout",
     "output_type": "stream",
     "text": [
      "Variancia: 823.6475000000005 \n",
      "Desvio Padrão 28.69925957233044\n"
     ]
    }
   ],
   "source": [
    "s = 0\n",
    "for i in aux:\n",
    "    s += i\n",
    "\n",
    "var = s/len(nums)\n",
    "dp = var**0.5\n",
    "print(\"Variancia: {} \\nDesvio Padrão {}\".format(var, dp))"
   ]
  },
  {
   "cell_type": "code",
   "execution_count": 27,
   "metadata": {},
   "outputs": [
    {
     "data": {
      "text/html": [
       "<div>\n",
       "<style scoped>\n",
       "    .dataframe tbody tr th:only-of-type {\n",
       "        vertical-align: middle;\n",
       "    }\n",
       "\n",
       "    .dataframe tbody tr th {\n",
       "        vertical-align: top;\n",
       "    }\n",
       "\n",
       "    .dataframe thead th {\n",
       "        text-align: right;\n",
       "    }\n",
       "</style>\n",
       "<table border=\"1\" class=\"dataframe\">\n",
       "  <thead>\n",
       "    <tr style=\"text-align: right;\">\n",
       "      <th></th>\n",
       "      <th>Numeros</th>\n",
       "    </tr>\n",
       "  </thead>\n",
       "  <tbody>\n",
       "    <tr>\n",
       "      <th>0</th>\n",
       "      <td>0</td>\n",
       "    </tr>\n",
       "    <tr>\n",
       "      <th>1</th>\n",
       "      <td>0</td>\n",
       "    </tr>\n",
       "    <tr>\n",
       "      <th>2</th>\n",
       "      <td>0</td>\n",
       "    </tr>\n",
       "    <tr>\n",
       "      <th>3</th>\n",
       "      <td>1</td>\n",
       "    </tr>\n",
       "    <tr>\n",
       "      <th>4</th>\n",
       "      <td>1</td>\n",
       "    </tr>\n",
       "    <tr>\n",
       "      <th>5</th>\n",
       "      <td>2</td>\n",
       "    </tr>\n",
       "    <tr>\n",
       "      <th>6</th>\n",
       "      <td>3</td>\n",
       "    </tr>\n",
       "    <tr>\n",
       "      <th>7</th>\n",
       "      <td>4</td>\n",
       "    </tr>\n",
       "    <tr>\n",
       "      <th>8</th>\n",
       "      <td>5</td>\n",
       "    </tr>\n",
       "    <tr>\n",
       "      <th>9</th>\n",
       "      <td>6</td>\n",
       "    </tr>\n",
       "    <tr>\n",
       "      <th>10</th>\n",
       "      <td>6</td>\n",
       "    </tr>\n",
       "    <tr>\n",
       "      <th>11</th>\n",
       "      <td>6</td>\n",
       "    </tr>\n",
       "    <tr>\n",
       "      <th>12</th>\n",
       "      <td>8</td>\n",
       "    </tr>\n",
       "    <tr>\n",
       "      <th>13</th>\n",
       "      <td>9</td>\n",
       "    </tr>\n",
       "    <tr>\n",
       "      <th>14</th>\n",
       "      <td>9</td>\n",
       "    </tr>\n",
       "    <tr>\n",
       "      <th>15</th>\n",
       "      <td>9</td>\n",
       "    </tr>\n",
       "    <tr>\n",
       "      <th>16</th>\n",
       "      <td>10</td>\n",
       "    </tr>\n",
       "    <tr>\n",
       "      <th>17</th>\n",
       "      <td>10</td>\n",
       "    </tr>\n",
       "    <tr>\n",
       "      <th>18</th>\n",
       "      <td>10</td>\n",
       "    </tr>\n",
       "    <tr>\n",
       "      <th>19</th>\n",
       "      <td>11</td>\n",
       "    </tr>\n",
       "    <tr>\n",
       "      <th>20</th>\n",
       "      <td>11</td>\n",
       "    </tr>\n",
       "    <tr>\n",
       "      <th>21</th>\n",
       "      <td>11</td>\n",
       "    </tr>\n",
       "    <tr>\n",
       "      <th>22</th>\n",
       "      <td>12</td>\n",
       "    </tr>\n",
       "    <tr>\n",
       "      <th>23</th>\n",
       "      <td>13</td>\n",
       "    </tr>\n",
       "    <tr>\n",
       "      <th>24</th>\n",
       "      <td>14</td>\n",
       "    </tr>\n",
       "    <tr>\n",
       "      <th>25</th>\n",
       "      <td>14</td>\n",
       "    </tr>\n",
       "    <tr>\n",
       "      <th>26</th>\n",
       "      <td>14</td>\n",
       "    </tr>\n",
       "    <tr>\n",
       "      <th>27</th>\n",
       "      <td>15</td>\n",
       "    </tr>\n",
       "    <tr>\n",
       "      <th>28</th>\n",
       "      <td>15</td>\n",
       "    </tr>\n",
       "    <tr>\n",
       "      <th>29</th>\n",
       "      <td>16</td>\n",
       "    </tr>\n",
       "    <tr>\n",
       "      <th>...</th>\n",
       "      <td>...</td>\n",
       "    </tr>\n",
       "    <tr>\n",
       "      <th>170</th>\n",
       "      <td>86</td>\n",
       "    </tr>\n",
       "    <tr>\n",
       "      <th>171</th>\n",
       "      <td>86</td>\n",
       "    </tr>\n",
       "    <tr>\n",
       "      <th>172</th>\n",
       "      <td>87</td>\n",
       "    </tr>\n",
       "    <tr>\n",
       "      <th>173</th>\n",
       "      <td>87</td>\n",
       "    </tr>\n",
       "    <tr>\n",
       "      <th>174</th>\n",
       "      <td>87</td>\n",
       "    </tr>\n",
       "    <tr>\n",
       "      <th>175</th>\n",
       "      <td>89</td>\n",
       "    </tr>\n",
       "    <tr>\n",
       "      <th>176</th>\n",
       "      <td>89</td>\n",
       "    </tr>\n",
       "    <tr>\n",
       "      <th>177</th>\n",
       "      <td>90</td>\n",
       "    </tr>\n",
       "    <tr>\n",
       "      <th>178</th>\n",
       "      <td>90</td>\n",
       "    </tr>\n",
       "    <tr>\n",
       "      <th>179</th>\n",
       "      <td>90</td>\n",
       "    </tr>\n",
       "    <tr>\n",
       "      <th>180</th>\n",
       "      <td>91</td>\n",
       "    </tr>\n",
       "    <tr>\n",
       "      <th>181</th>\n",
       "      <td>91</td>\n",
       "    </tr>\n",
       "    <tr>\n",
       "      <th>182</th>\n",
       "      <td>91</td>\n",
       "    </tr>\n",
       "    <tr>\n",
       "      <th>183</th>\n",
       "      <td>91</td>\n",
       "    </tr>\n",
       "    <tr>\n",
       "      <th>184</th>\n",
       "      <td>93</td>\n",
       "    </tr>\n",
       "    <tr>\n",
       "      <th>185</th>\n",
       "      <td>93</td>\n",
       "    </tr>\n",
       "    <tr>\n",
       "      <th>186</th>\n",
       "      <td>93</td>\n",
       "    </tr>\n",
       "    <tr>\n",
       "      <th>187</th>\n",
       "      <td>94</td>\n",
       "    </tr>\n",
       "    <tr>\n",
       "      <th>188</th>\n",
       "      <td>95</td>\n",
       "    </tr>\n",
       "    <tr>\n",
       "      <th>189</th>\n",
       "      <td>95</td>\n",
       "    </tr>\n",
       "    <tr>\n",
       "      <th>190</th>\n",
       "      <td>95</td>\n",
       "    </tr>\n",
       "    <tr>\n",
       "      <th>191</th>\n",
       "      <td>95</td>\n",
       "    </tr>\n",
       "    <tr>\n",
       "      <th>192</th>\n",
       "      <td>95</td>\n",
       "    </tr>\n",
       "    <tr>\n",
       "      <th>193</th>\n",
       "      <td>96</td>\n",
       "    </tr>\n",
       "    <tr>\n",
       "      <th>194</th>\n",
       "      <td>96</td>\n",
       "    </tr>\n",
       "    <tr>\n",
       "      <th>195</th>\n",
       "      <td>98</td>\n",
       "    </tr>\n",
       "    <tr>\n",
       "      <th>196</th>\n",
       "      <td>98</td>\n",
       "    </tr>\n",
       "    <tr>\n",
       "      <th>197</th>\n",
       "      <td>99</td>\n",
       "    </tr>\n",
       "    <tr>\n",
       "      <th>198</th>\n",
       "      <td>100</td>\n",
       "    </tr>\n",
       "    <tr>\n",
       "      <th>199</th>\n",
       "      <td>100</td>\n",
       "    </tr>\n",
       "  </tbody>\n",
       "</table>\n",
       "<p>200 rows × 1 columns</p>\n",
       "</div>"
      ],
      "text/plain": [
       "     Numeros\n",
       "0          0\n",
       "1          0\n",
       "2          0\n",
       "3          1\n",
       "4          1\n",
       "5          2\n",
       "6          3\n",
       "7          4\n",
       "8          5\n",
       "9          6\n",
       "10         6\n",
       "11         6\n",
       "12         8\n",
       "13         9\n",
       "14         9\n",
       "15         9\n",
       "16        10\n",
       "17        10\n",
       "18        10\n",
       "19        11\n",
       "20        11\n",
       "21        11\n",
       "22        12\n",
       "23        13\n",
       "24        14\n",
       "25        14\n",
       "26        14\n",
       "27        15\n",
       "28        15\n",
       "29        16\n",
       "..       ...\n",
       "170       86\n",
       "171       86\n",
       "172       87\n",
       "173       87\n",
       "174       87\n",
       "175       89\n",
       "176       89\n",
       "177       90\n",
       "178       90\n",
       "179       90\n",
       "180       91\n",
       "181       91\n",
       "182       91\n",
       "183       91\n",
       "184       93\n",
       "185       93\n",
       "186       93\n",
       "187       94\n",
       "188       95\n",
       "189       95\n",
       "190       95\n",
       "191       95\n",
       "192       95\n",
       "193       96\n",
       "194       96\n",
       "195       98\n",
       "196       98\n",
       "197       99\n",
       "198      100\n",
       "199      100\n",
       "\n",
       "[200 rows x 1 columns]"
      ]
     },
     "execution_count": 27,
     "metadata": {},
     "output_type": "execute_result"
    }
   ],
   "source": [
    "df2 = pd.DataFrame({'Numeros':nums})\n",
    "df2"
   ]
  },
  {
   "cell_type": "markdown",
   "metadata": {},
   "source": [
    "**Mean representa a média**"
   ]
  },
  {
   "cell_type": "code",
   "execution_count": 28,
   "metadata": {},
   "outputs": [
    {
     "data": {
      "text/html": [
       "<div>\n",
       "<style scoped>\n",
       "    .dataframe tbody tr th:only-of-type {\n",
       "        vertical-align: middle;\n",
       "    }\n",
       "\n",
       "    .dataframe tbody tr th {\n",
       "        vertical-align: top;\n",
       "    }\n",
       "\n",
       "    .dataframe thead th {\n",
       "        text-align: right;\n",
       "    }\n",
       "</style>\n",
       "<table border=\"1\" class=\"dataframe\">\n",
       "  <thead>\n",
       "    <tr style=\"text-align: right;\">\n",
       "      <th></th>\n",
       "      <th>Numeros</th>\n",
       "    </tr>\n",
       "  </thead>\n",
       "  <tbody>\n",
       "    <tr>\n",
       "      <th>count</th>\n",
       "      <td>200.000000</td>\n",
       "    </tr>\n",
       "    <tr>\n",
       "      <th>mean</th>\n",
       "      <td>49.350000</td>\n",
       "    </tr>\n",
       "    <tr>\n",
       "      <th>std</th>\n",
       "      <td>28.771278</td>\n",
       "    </tr>\n",
       "    <tr>\n",
       "      <th>min</th>\n",
       "      <td>0.000000</td>\n",
       "    </tr>\n",
       "    <tr>\n",
       "      <th>25%</th>\n",
       "      <td>24.000000</td>\n",
       "    </tr>\n",
       "    <tr>\n",
       "      <th>50%</th>\n",
       "      <td>49.500000</td>\n",
       "    </tr>\n",
       "    <tr>\n",
       "      <th>75%</th>\n",
       "      <td>73.000000</td>\n",
       "    </tr>\n",
       "    <tr>\n",
       "      <th>max</th>\n",
       "      <td>100.000000</td>\n",
       "    </tr>\n",
       "  </tbody>\n",
       "</table>\n",
       "</div>"
      ],
      "text/plain": [
       "          Numeros\n",
       "count  200.000000\n",
       "mean    49.350000\n",
       "std     28.771278\n",
       "min      0.000000\n",
       "25%     24.000000\n",
       "50%     49.500000\n",
       "75%     73.000000\n",
       "max    100.000000"
      ]
     },
     "execution_count": 28,
     "metadata": {},
     "output_type": "execute_result"
    }
   ],
   "source": [
    "df2.describe()"
   ]
  },
  {
   "cell_type": "markdown",
   "metadata": {},
   "source": [
    "**Mediana**"
   ]
  },
  {
   "cell_type": "code",
   "execution_count": 29,
   "metadata": {},
   "outputs": [
    {
     "data": {
      "text/plain": [
       "Numeros    49.5\n",
       "dtype: float64"
      ]
     },
     "execution_count": 29,
     "metadata": {},
     "output_type": "execute_result"
    }
   ],
   "source": [
    "df2.median()\n"
   ]
  },
  {
   "cell_type": "markdown",
   "metadata": {},
   "source": [
    "**Moda**"
   ]
  },
  {
   "cell_type": "code",
   "execution_count": 30,
   "metadata": {},
   "outputs": [
    {
     "data": {
      "text/html": [
       "<div>\n",
       "<style scoped>\n",
       "    .dataframe tbody tr th:only-of-type {\n",
       "        vertical-align: middle;\n",
       "    }\n",
       "\n",
       "    .dataframe tbody tr th {\n",
       "        vertical-align: top;\n",
       "    }\n",
       "\n",
       "    .dataframe thead th {\n",
       "        text-align: right;\n",
       "    }\n",
       "</style>\n",
       "<table border=\"1\" class=\"dataframe\">\n",
       "  <thead>\n",
       "    <tr style=\"text-align: right;\">\n",
       "      <th></th>\n",
       "      <th>Numeros</th>\n",
       "    </tr>\n",
       "  </thead>\n",
       "  <tbody>\n",
       "    <tr>\n",
       "      <th>0</th>\n",
       "      <td>56</td>\n",
       "    </tr>\n",
       "  </tbody>\n",
       "</table>\n",
       "</div>"
      ],
      "text/plain": [
       "   Numeros\n",
       "0       56"
      ]
     },
     "execution_count": 30,
     "metadata": {},
     "output_type": "execute_result"
    }
   ],
   "source": [
    "df2.mode()"
   ]
  },
  {
   "cell_type": "markdown",
   "metadata": {},
   "source": [
    "**Histograma dos valores**"
   ]
  },
  {
   "cell_type": "code",
   "execution_count": 31,
   "metadata": {},
   "outputs": [
    {
     "data": {
      "text/plain": [
       "<matplotlib.axes._subplots.AxesSubplot at 0x22afdb99b38>"
      ]
     },
     "execution_count": 31,
     "metadata": {},
     "output_type": "execute_result"
    },
    {
     "data": {
      "image/png": "[encoded data removed]",
      "text/plain": [
       "<Figure size 576x576 with 1 Axes>"
      ]
     },
     "metadata": {
      "needs_background": "light"
     },
     "output_type": "display_data"
    }
   ],
   "source": [
    "df2.plot(kind='hist', figsize=(8,8))"
   ]
  },
  {
   "cell_type": "markdown",
   "metadata": {},
   "source": [
    "**Diferença de cada ponto para a média do gráfico**"
   ]
  },
  {
   "cell_type": "code",
   "execution_count": 32,
   "metadata": {},
   "outputs": [
    {
     "data": {
      "text/plain": [
       "<matplotlib.lines.Line2D at 0x22afdc1d1d0>"
      ]
     },
     "execution_count": 32,
     "metadata": {},
     "output_type": "execute_result"
    },
    {
     "data": {
      "image/png": "[encoded data removed]",
      "text/plain": [
       "<Figure size 720x720 with 1 Axes>"
      ]
     },
     "metadata": {
      "needs_background": "light"
     },
     "output_type": "display_data"
    }
   ],
   "source": [
    "media = df2.mean()\n",
    "df2.plot(style='o' ,figsize=(10,10)).axhline(float(media), color='r', linestyle='--')"
   ]
  },
  {
   "cell_type": "markdown",
   "metadata": {},
   "source": [
    "## Correlação e Regressão sem Pandas"
   ]
  },
  {
   "cell_type": "markdown",
   "metadata": {},
   "source": [
    "$$\\LARGE{r = \\frac{\\sum\\limits_{i=1}^{i} X{i}Y{i} - n\\bar{X}\\bar{Y}} {(n-1) S{x}S{y}}}$$"
   ]
  },
  {
   "cell_type": "code",
   "execution_count": 33,
   "metadata": {},
   "outputs": [
    {
     "data": {
      "text/plain": [
       "[<matplotlib.lines.Line2D at 0x22afdca2908>]"
      ]
     },
     "execution_count": 33,
     "metadata": {},
     "output_type": "execute_result"
    },
    {
     "data": {
      "image/png": "[encoded data removed]",
      "text/plain": [
       "<Figure size 720x720 with 1 Axes>"
      ]
     },
     "metadata": {
      "needs_background": "light"
     },
     "output_type": "display_data"
    }
   ],
   "source": [
    "massa_muscular = [82.0, 91.0,100.0,68.0,87.0,73.0,78.0,80.0,65.0,84.0,116.0,76.0,97.0,100.0,105.0,77.0,73.0,78.0]\n",
    "idade = [71.0,64.0,43.0,67.0,56.0,73.0,68.0,56.0,76.0,65.0,45.0,58.0,45.0,53.0,49.0,78.0,73.0,68.0]\n",
    "\n",
    "plt.figure(figsize=(10,10))\n",
    "plt.axis([30,100, 50, 120])\n",
    "plt.title('Dispersão')\n",
    "plt.xlabel('idade')\n",
    "plt.ylabel('Massa')\n",
    "plt.plot(idade, massa_muscular, 'o')"
   ]
  },
  {
   "cell_type": "markdown",
   "metadata": {},
   "source": [
    "**Soma dos valores**"
   ]
  },
  {
   "cell_type": "code",
   "execution_count": 34,
   "metadata": {},
   "outputs": [],
   "source": [
    "soma_idade = 0\n",
    "soma_massa = 0\n",
    "for i in idade:\n",
    "    soma_idade += i\n",
    "    \n",
    "for i in massa_muscular:\n",
    "    soma_massa += i\n"
   ]
  },
  {
   "cell_type": "markdown",
   "metadata": {},
   "source": [
    "**Média e Desvio Padrão**"
   ]
  },
  {
   "cell_type": "code",
   "execution_count": 35,
   "metadata": {},
   "outputs": [],
   "source": [
    "media_idade = soma_idade/len(idade)\n",
    "media_massa = soma_massa/len(massa_muscular)\n",
    "\n",
    "## IDADE\n",
    "soma = 0\n",
    "for i in idade:\n",
    "    soma += (i - media_idade)**2\n",
    "\n",
    "div_i = soma/len(idade)\n",
    "desvio_idade = div_i**(1/2)\n",
    "\n",
    "## Massa\n",
    "soma = 0\n",
    "for i in massa_muscular:\n",
    "    soma += (i- media_massa)**2\n",
    "    \n",
    "div_m = soma/len(massa_muscular)\n",
    "desvio_massa = div_m**(1/2)\n",
    "\n"
   ]
  },
  {
   "cell_type": "markdown",
   "metadata": {},
   "source": [
    "**Correlação**\n"
   ]
  },
  {
   "cell_type": "code",
   "execution_count": 36,
   "metadata": {},
   "outputs": [
    {
     "name": "stdout",
     "output_type": "stream",
     "text": [
      "91964.0\n"
     ]
    },
    {
     "data": {
      "text/plain": [
       "-0.8858929015742787"
      ]
     },
     "execution_count": 36,
     "metadata": {},
     "output_type": "execute_result"
    }
   ],
   "source": [
    "## sum(x*y)\n",
    "n = len(idade)\n",
    "\n",
    "soma_xy = 0\n",
    "for i in range(n):\n",
    "    soma_xy += idade[i] * massa_muscular[i]\n",
    "\n",
    "print(soma_xy)    \n",
    "aux = soma_xy - n*media_idade*media_massa\n",
    "divisor = (n-1) * desvio_idade * desvio_massa\n",
    "r = aux / divisor\n",
    "r\n"
   ]
  },
  {
   "cell_type": "markdown",
   "metadata": {},
   "source": [
    "**/\\ Correlação Linear negativa**"
   ]
  },
  {
   "cell_type": "markdown",
   "metadata": {},
   "source": [
    "**Reta Ajustada**"
   ]
  },
  {
   "cell_type": "markdown",
   "metadata": {},
   "source": [
    "$$\\LARGE{b =\\frac{\\sum\\limits_{i=1}^{n}X{i}Y{i} - n\\bar{X}\\bar{Y}}{(n-1) S_{x}^{2}}} $$"
   ]
  },
  {
   "cell_type": "markdown",
   "metadata": {},
   "source": [
    "$$\\LARGE{a = \\bar{Y} - b \\bar{X}}$$"
   ]
  },
  {
   "cell_type": "markdown",
   "metadata": {},
   "source": [
    "$$\\Large{Y = a +bx}$$"
   ]
  },
  {
   "cell_type": "code",
   "execution_count": 37,
   "metadata": {},
   "outputs": [
    {
     "name": "stdout",
     "output_type": "stream",
     "text": [
      "Valor de b: -1.0870573700498425\n"
     ]
    }
   ],
   "source": [
    "\n",
    "b = aux / ((n-1) *  desvio_idade**2)\n",
    "print(\"Valor de b:\", b)"
   ]
  },
  {
   "cell_type": "code",
   "execution_count": 38,
   "metadata": {},
   "outputs": [
    {
     "name": "stdout",
     "output_type": "stream",
     "text": [
      "Valor de a:  151.9144203341792\n"
     ]
    }
   ],
   "source": [
    "a = media_massa - b * media_idade\n",
    "print('Valor de a: ',a)"
   ]
  },
  {
   "cell_type": "code",
   "execution_count": 39,
   "metadata": {},
   "outputs": [],
   "source": [
    "\n",
    "pontos = []\n",
    "\n",
    "for x in idade:\n",
    "    y = a + b * x\n",
    "    pontos.append(y)\n",
    "\n"
   ]
  },
  {
   "cell_type": "code",
   "execution_count": 40,
   "metadata": {},
   "outputs": [
    {
     "data": {
      "text/plain": [
       "[<matplotlib.lines.Line2D at 0x22afdd18cc0>]"
      ]
     },
     "execution_count": 40,
     "metadata": {},
     "output_type": "execute_result"
    },
    {
     "data": {
      "image/png": "[encoded data removed]",
      "text/plain": [
       "<Figure size 720x720 with 1 Axes>"
      ]
     },
     "metadata": {
      "needs_background": "light"
     },
     "output_type": "display_data"
    }
   ],
   "source": [
    "plt.figure(figsize=(10,10))\n",
    "plt.axis([30,100, 50, 150])\n",
    "plt.text(35, 140, 'y = %.2f + %.2f x'%(a, b) , {'color': 'orange', 'fontsize': 20})\n",
    "plt.title('Regressão Linear')\n",
    "plt.plot(idade, massa_muscular, 'o')\n",
    "plt.plot(idade, pontos, '--')"
   ]
  },
  {
   "cell_type": "markdown",
   "metadata": {},
   "source": [
    "## Teste de Hipotése"
   ]
  },
  {
   "cell_type": "markdown",
   "metadata": {},
   "source": [
    "$$ \\LARGE{Z = \\frac{  \\bar{X} - \\mu{0}}{\\frac{\\sigma}{ \\sqrt{n}}}}$$"
   ]
  },
  {
   "attachments": {},
   "cell_type": "markdown",
   "metadata": {},
   "source": [
    "**A resistência à tração do aço inoxidável produzido numa usina permanecia estável, com uma resistência média de 72 kg/mm2 e um desvio padrão de 2,0 kg/mm2.  Recentemente, a máquina foi ajustada.  A fim de determinar o efeito do ajuste, 10 amostras foram testadas.** "
   ]
  },
  {
   "cell_type": "code",
   "execution_count": 41,
   "metadata": {},
   "outputs": [],
   "source": [
    "amostra = [76.2, 78.3, 76.4, 74.7, 72.6, 78.4, 75.7,  70.2 , 73.3 , 74.2]"
   ]
  },
  {
   "attachments": {},
   "cell_type": "markdown",
   "metadata": {},
   "source": [
    "**Presuma que o desvio padrão seja o mesmo que antes do ajuste.  Podemos concluir que o ajuste mudou a resistência à tração de aço?  (Adote um nível de significância de 5%)**"
   ]
  },
  {
   "cell_type": "code",
   "execution_count": 42,
   "metadata": {},
   "outputs": [],
   "source": [
    "#H0 = 72\n",
    "#H1 != 72\n",
    "#desvio = 2\n",
    "\n",
    "#média amostra\n",
    "soma_amostra = 0\n",
    "for i in amostra:\n",
    "    soma_amostra += i\n",
    "    \n",
    "media = soma_amostra / len(amostra)"
   ]
  },
  {
   "cell_type": "code",
   "execution_count": 43,
   "metadata": {},
   "outputs": [
    {
     "data": {
      "text/plain": [
       "4.743416490252592"
      ]
     },
     "execution_count": 43,
     "metadata": {},
     "output_type": "execute_result"
    }
   ],
   "source": [
    "#Calculo\n",
    "z = (media - 72) / 2 * len(amostra)**(1/2)\n",
    "z"
   ]
  },
  {
   "cell_type": "markdown",
   "metadata": {},
   "source": [
    "**2,5 na tabela normal = 0,9798**\n",
    "<br>\n",
    "**5% = 1,9596**\n",
    "<br>\n",
    "**4.74 é rejeitado**"
   ]
  },
  {
   "cell_type": "code",
   "execution_count": null,
   "metadata": {},
   "outputs": [],
   "source": []
  }
 ],
 "metadata": {
  "kernelspec": {
   "display_name": "Python 3",
   "language": "python",
   "name": "python3"
  },
  "language_info": {
   "codemirror_mode": {
    "name": "ipython",
    "version": 3
   },
   "file_extension": ".py",
   "mimetype": "text/x-python",
   "name": "python",
   "nbconvert_exporter": "python",
   "pygments_lexer": "ipython3",
   "version": "3.6.5"
  }
 },
 "nbformat": 4,
 "nbformat_minor": 2
}
