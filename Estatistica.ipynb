{
 "cells": [
  {
   "cell_type": "markdown",
   "metadata": {},
   "source": [
    "# Estátistica usando python e pandas\n"
   ]
  },
  {
   "cell_type": "markdown",
   "metadata": {},
   "source": [
    "**Importação de bibliotecas necessárias** "
   ]
  },
  {
   "cell_type": "code",
   "execution_count": 175,
   "metadata": {},
   "outputs": [],
   "source": [
    "\n",
    "import pandas as pd\n",
    "import matplotlib.pyplot as plt\n",
    "%matplotlib inline\n",
    "import random\n",
    "\n",
    "\n",
    "low_memory=False\n"
   ]
  },
  {
   "cell_type": "markdown",
   "metadata": {},
   "source": [
    "**Criação de uma lista de números aleatórios e separação em classes**"
   ]
  },
  {
   "cell_type": "code",
   "execution_count": 176,
   "metadata": {},
   "outputs": [],
   "source": [
    "\n",
    "lista = []\n",
    "\n",
    "for i in range(36):\n",
    "    lista.append(random.randint(0,36))\n",
    "\n",
    "lista.sort()\n",
    "lista2 = list(lista)\n",
    "\n",
    "#Divisão do número de classes\n",
    "k = len(lista)**0.5\n",
    "\n",
    "#aplitude de cada classe\n",
    "h = max(lista) - min(lista) \n",
    "h = int(h / k)"
   ]
  },
  {
   "cell_type": "code",
   "execution_count": 177,
   "metadata": {},
   "outputs": [
    {
     "data": {
      "text/plain": [
       "[0,\n",
       " 3,\n",
       " 5,\n",
       " 5,\n",
       " 5,\n",
       " 7,\n",
       " 8,\n",
       " 9,\n",
       " 9,\n",
       " 10,\n",
       " 11,\n",
       " 11,\n",
       " 12,\n",
       " 13,\n",
       " 13,\n",
       " 13,\n",
       " 16,\n",
       " 16,\n",
       " 17,\n",
       " 17,\n",
       " 17,\n",
       " 18,\n",
       " 19,\n",
       " 20,\n",
       " 20,\n",
       " 22,\n",
       " 24,\n",
       " 26,\n",
       " 28,\n",
       " 28,\n",
       " 30,\n",
       " 32,\n",
       " 32,\n",
       " 33,\n",
       " 34,\n",
       " 34]"
      ]
     },
     "execution_count": 177,
     "metadata": {},
     "output_type": "execute_result"
    }
   ],
   "source": [
    "lista2\n"
   ]
  },
  {
   "cell_type": "code",
   "execution_count": 178,
   "metadata": {
    "scrolled": true
   },
   "outputs": [
    {
     "name": "stdout",
     "output_type": "stream",
     "text": [
      "[0, 3, 5, 5, 5, 7, 8, 9, 9, 10, 11, 11, 12, 13, 13, 13, 16, 16, 17, 17, 17, 18, 19, 20, 20, 22, 24, 26, 28, 28, 30, 32, 32, 33, 34, 34]\n",
      "[7, 8, 9, 9, 10, 11, 11, 12, 13, 13, 13, 16, 16, 17, 17, 17, 18, 19, 20, 20, 22, 24, 26, 28, 28, 30, 32, 32, 33, 34, 34]\n",
      "[11, 11, 12, 13, 13, 13, 16, 16, 17, 17, 17, 18, 19, 20, 20, 22, 24, 26, 28, 28, 30, 32, 32, 33, 34, 34]\n",
      "[13, 16, 16, 17, 17, 17, 18, 19, 20, 20, 22, 24, 26, 28, 28, 30, 32, 32, 33, 34, 34]\n",
      "[17, 18, 19, 20, 20, 22, 24, 26, 28, 28, 30, 32, 32, 33, 34, 34]\n",
      "[22, 24, 26, 28, 28, 30, 32, 32, 33, 34, 34]\n"
     ]
    }
   ],
   "source": [
    "tamanho = len(lista) \n",
    "fa = 0\n",
    "fra = 0\n",
    "fr = 0\n",
    "df = pd.DataFrame(columns=['Frequencia', 'Freq. Acumulada', 'Frequencia Relativa', 'Freq. Rel. Acumulada'])\n",
    "for i in range(int(k)):\n",
    "    print(lista)\n",
    "    aux = lista[:h] \n",
    "    #print(aux)\n",
    "    if len(aux) > 0:\n",
    "        li = min(aux)\n",
    "        ls = max(aux)\n",
    "        fa += len(aux)\n",
    "        fr = len(aux)/tamanho*100\n",
    "        fra += len(aux)/tamanho*100\n",
    "    df.loc[str(li) + ' |- ' + str(ls)] = [len(aux), fa, fr, fra] \n",
    "    lista = lista[h:]\n"
   ]
  },
  {
   "cell_type": "markdown",
   "metadata": {},
   "source": [
    "**Divisão em classes**"
   ]
  },
  {
   "cell_type": "code",
   "execution_count": 179,
   "metadata": {},
   "outputs": [
    {
     "data": {
      "text/html": [
       "<div>\n",
       "<style scoped>\n",
       "    .dataframe tbody tr th:only-of-type {\n",
       "        vertical-align: middle;\n",
       "    }\n",
       "\n",
       "    .dataframe tbody tr th {\n",
       "        vertical-align: top;\n",
       "    }\n",
       "\n",
       "    .dataframe thead th {\n",
       "        text-align: right;\n",
       "    }\n",
       "</style>\n",
       "<table border=\"1\" class=\"dataframe\">\n",
       "  <thead>\n",
       "    <tr style=\"text-align: right;\">\n",
       "      <th></th>\n",
       "      <th>Frequencia</th>\n",
       "      <th>Freq. Acumulada</th>\n",
       "      <th>Frequencia Relativa</th>\n",
       "      <th>Freq. Rel. Acumulada</th>\n",
       "    </tr>\n",
       "  </thead>\n",
       "  <tbody>\n",
       "    <tr>\n",
       "      <th>0 |- 5</th>\n",
       "      <td>5.0</td>\n",
       "      <td>5.0</td>\n",
       "      <td>13.888889</td>\n",
       "      <td>13.888889</td>\n",
       "    </tr>\n",
       "    <tr>\n",
       "      <th>7 |- 10</th>\n",
       "      <td>5.0</td>\n",
       "      <td>10.0</td>\n",
       "      <td>13.888889</td>\n",
       "      <td>27.777778</td>\n",
       "    </tr>\n",
       "    <tr>\n",
       "      <th>11 |- 13</th>\n",
       "      <td>5.0</td>\n",
       "      <td>15.0</td>\n",
       "      <td>13.888889</td>\n",
       "      <td>41.666667</td>\n",
       "    </tr>\n",
       "    <tr>\n",
       "      <th>13 |- 17</th>\n",
       "      <td>5.0</td>\n",
       "      <td>20.0</td>\n",
       "      <td>13.888889</td>\n",
       "      <td>55.555556</td>\n",
       "    </tr>\n",
       "    <tr>\n",
       "      <th>17 |- 20</th>\n",
       "      <td>5.0</td>\n",
       "      <td>25.0</td>\n",
       "      <td>13.888889</td>\n",
       "      <td>69.444444</td>\n",
       "    </tr>\n",
       "    <tr>\n",
       "      <th>22 |- 28</th>\n",
       "      <td>5.0</td>\n",
       "      <td>30.0</td>\n",
       "      <td>13.888889</td>\n",
       "      <td>83.333333</td>\n",
       "    </tr>\n",
       "  </tbody>\n",
       "</table>\n",
       "</div>"
      ],
      "text/plain": [
       "          Frequencia  Freq. Acumulada  Frequencia Relativa  \\\n",
       "0 |- 5           5.0              5.0            13.888889   \n",
       "7 |- 10          5.0             10.0            13.888889   \n",
       "11 |- 13         5.0             15.0            13.888889   \n",
       "13 |- 17         5.0             20.0            13.888889   \n",
       "17 |- 20         5.0             25.0            13.888889   \n",
       "22 |- 28         5.0             30.0            13.888889   \n",
       "\n",
       "          Freq. Rel. Acumulada  \n",
       "0 |- 5               13.888889  \n",
       "7 |- 10              27.777778  \n",
       "11 |- 13             41.666667  \n",
       "13 |- 17             55.555556  \n",
       "17 |- 20             69.444444  \n",
       "22 |- 28             83.333333  "
      ]
     },
     "execution_count": 179,
     "metadata": {},
     "output_type": "execute_result"
    }
   ],
   "source": [
    "df"
   ]
  },
  {
   "cell_type": "code",
   "execution_count": 180,
   "metadata": {},
   "outputs": [
    {
     "data": {
      "text/html": [
       "<div>\n",
       "<style scoped>\n",
       "    .dataframe tbody tr th:only-of-type {\n",
       "        vertical-align: middle;\n",
       "    }\n",
       "\n",
       "    .dataframe tbody tr th {\n",
       "        vertical-align: top;\n",
       "    }\n",
       "\n",
       "    .dataframe thead th {\n",
       "        text-align: right;\n",
       "    }\n",
       "</style>\n",
       "<table border=\"1\" class=\"dataframe\">\n",
       "  <thead>\n",
       "    <tr style=\"text-align: right;\">\n",
       "      <th></th>\n",
       "      <th>Frequencia</th>\n",
       "      <th>Freq. Acumulada</th>\n",
       "      <th>Frequencia Relativa</th>\n",
       "      <th>Freq. Rel. Acumulada</th>\n",
       "    </tr>\n",
       "  </thead>\n",
       "  <tbody>\n",
       "    <tr>\n",
       "      <th>count</th>\n",
       "      <td>6.0</td>\n",
       "      <td>6.000000</td>\n",
       "      <td>6.000000e+00</td>\n",
       "      <td>6.000000</td>\n",
       "    </tr>\n",
       "    <tr>\n",
       "      <th>mean</th>\n",
       "      <td>5.0</td>\n",
       "      <td>17.500000</td>\n",
       "      <td>1.388889e+01</td>\n",
       "      <td>48.611111</td>\n",
       "    </tr>\n",
       "    <tr>\n",
       "      <th>std</th>\n",
       "      <td>0.0</td>\n",
       "      <td>9.354143</td>\n",
       "      <td>1.945901e-15</td>\n",
       "      <td>25.983732</td>\n",
       "    </tr>\n",
       "    <tr>\n",
       "      <th>min</th>\n",
       "      <td>5.0</td>\n",
       "      <td>5.000000</td>\n",
       "      <td>1.388889e+01</td>\n",
       "      <td>13.888889</td>\n",
       "    </tr>\n",
       "    <tr>\n",
       "      <th>25%</th>\n",
       "      <td>5.0</td>\n",
       "      <td>11.250000</td>\n",
       "      <td>1.388889e+01</td>\n",
       "      <td>31.250000</td>\n",
       "    </tr>\n",
       "    <tr>\n",
       "      <th>50%</th>\n",
       "      <td>5.0</td>\n",
       "      <td>17.500000</td>\n",
       "      <td>1.388889e+01</td>\n",
       "      <td>48.611111</td>\n",
       "    </tr>\n",
       "    <tr>\n",
       "      <th>75%</th>\n",
       "      <td>5.0</td>\n",
       "      <td>23.750000</td>\n",
       "      <td>1.388889e+01</td>\n",
       "      <td>65.972222</td>\n",
       "    </tr>\n",
       "    <tr>\n",
       "      <th>max</th>\n",
       "      <td>5.0</td>\n",
       "      <td>30.000000</td>\n",
       "      <td>1.388889e+01</td>\n",
       "      <td>83.333333</td>\n",
       "    </tr>\n",
       "  </tbody>\n",
       "</table>\n",
       "</div>"
      ],
      "text/plain": [
       "       Frequencia  Freq. Acumulada  Frequencia Relativa  Freq. Rel. Acumulada\n",
       "count         6.0         6.000000         6.000000e+00              6.000000\n",
       "mean          5.0        17.500000         1.388889e+01             48.611111\n",
       "std           0.0         9.354143         1.945901e-15             25.983732\n",
       "min           5.0         5.000000         1.388889e+01             13.888889\n",
       "25%           5.0        11.250000         1.388889e+01             31.250000\n",
       "50%           5.0        17.500000         1.388889e+01             48.611111\n",
       "75%           5.0        23.750000         1.388889e+01             65.972222\n",
       "max           5.0        30.000000         1.388889e+01             83.333333"
      ]
     },
     "execution_count": 180,
     "metadata": {},
     "output_type": "execute_result"
    }
   ],
   "source": [
    "df.describe()"
   ]
  },
  {
   "cell_type": "markdown",
   "metadata": {},
   "source": [
    "**Frequencia de cada classe**"
   ]
  },
  {
   "cell_type": "code",
   "execution_count": 181,
   "metadata": {},
   "outputs": [
    {
     "data": {
      "text/plain": [
       "<matplotlib.axes._subplots.AxesSubplot at 0x213c8996908>"
      ]
     },
     "execution_count": 181,
     "metadata": {},
     "output_type": "execute_result"
    },
    {
     "data": {
      "image/png": "[encoded data removed]",
      "text/plain": [
       "<Figure size 432x288 with 1 Axes>"
      ]
     },
     "metadata": {
      "needs_background": "light"
     },
     "output_type": "display_data"
    }
   ],
   "source": [
    "df['Frequencia'].plot(kind='bar')"
   ]
  },
  {
   "cell_type": "markdown",
   "metadata": {},
   "source": [
    "## Criação de uma lista para conseguir moda, mediana, média\n"
   ]
  },
  {
   "cell_type": "code",
   "execution_count": 182,
   "metadata": {},
   "outputs": [
    {
     "name": "stdout",
     "output_type": "stream",
     "text": [
      "7.071067811865475\n",
      "14.142135623730951\n"
     ]
    }
   ],
   "source": [
    "nums = []\n",
    "\n",
    "for i in range(200):\n",
    "    nums.append(random.randint(0,100))\n",
    "\n",
    "nums.sort()\n",
    "#Divisão do número de classes\n",
    "k = len(nums)**0.5\n",
    "\n",
    "#aplitude de cada classe\n",
    "h = max(nums) - min(nums) \n",
    "h = h / k\n",
    "print(h)\n",
    "print(k)"
   ]
  },
  {
   "cell_type": "code",
   "execution_count": 183,
   "metadata": {},
   "outputs": [],
   "source": [
    "soma = 0\n",
    "media = 0\n",
    "for i in nums:\n",
    "    soma += i\n",
    "media = soma/len(nums)"
   ]
  },
  {
   "cell_type": "code",
   "execution_count": 184,
   "metadata": {},
   "outputs": [
    {
     "data": {
      "text/plain": [
       "[2789.4242249999998,\n",
       " 2789.4242249999998,\n",
       " 2684.7942249999996,\n",
       " 2684.7942249999996,\n",
       " 2684.7942249999996,\n",
       " 2582.164225,\n",
       " 2582.164225,\n",
       " 2481.534225,\n",
       " 2481.534225,\n",
       " 2382.9042249999998,\n",
       " 2382.9042249999998,\n",
       " 2382.9042249999998,\n",
       " 2286.2742249999997,\n",
       " 2191.644225,\n",
       " 2191.644225,\n",
       " 2099.014225,\n",
       " 2008.3842249999998,\n",
       " 2008.3842249999998,\n",
       " 1833.1242249999998,\n",
       " 1748.494225,\n",
       " 1665.8642249999998,\n",
       " 1665.8642249999998,\n",
       " 1585.234225,\n",
       " 1506.6042249999998,\n",
       " 1506.6042249999998,\n",
       " 1429.974225,\n",
       " 1429.974225,\n",
       " 1429.974225,\n",
       " 1355.3442249999998,\n",
       " 1212.0842249999998,\n",
       " 1143.454225,\n",
       " 1076.8242249999998,\n",
       " 1076.8242249999998,\n",
       " 1076.8242249999998,\n",
       " 1076.8242249999998,\n",
       " 1012.1942249999998,\n",
       " 949.5642249999999,\n",
       " 949.5642249999999,\n",
       " 888.9342249999999,\n",
       " 888.9342249999999,\n",
       " 888.9342249999999,\n",
       " 830.3042249999999,\n",
       " 830.3042249999999,\n",
       " 719.0442249999999,\n",
       " 666.4142249999999,\n",
       " 666.4142249999999,\n",
       " 615.7842249999999,\n",
       " 615.7842249999999,\n",
       " 567.1542249999999,\n",
       " 520.5242249999999,\n",
       " 520.5242249999999,\n",
       " 433.2642249999999,\n",
       " 433.2642249999999,\n",
       " 433.2642249999999,\n",
       " 433.2642249999999,\n",
       " 392.6342249999999,\n",
       " 392.6342249999999,\n",
       " 354.0042249999999,\n",
       " 354.0042249999999,\n",
       " 354.0042249999999,\n",
       " 317.3742249999999,\n",
       " 317.3742249999999,\n",
       " 317.3742249999999,\n",
       " 317.3742249999999,\n",
       " 282.7442249999999,\n",
       " 282.7442249999999,\n",
       " 219.48422499999992,\n",
       " 219.48422499999992,\n",
       " 219.48422499999992,\n",
       " 139.59422499999994,\n",
       " 116.96422499999996,\n",
       " 116.96422499999996,\n",
       " 116.96422499999996,\n",
       " 96.33422499999996,\n",
       " 77.70422499999997,\n",
       " 77.70422499999997,\n",
       " 77.70422499999997,\n",
       " 77.70422499999997,\n",
       " 77.70422499999997,\n",
       " 61.07422499999996,\n",
       " 46.44422499999997,\n",
       " 33.81422499999997,\n",
       " 23.184224999999977,\n",
       " 23.184224999999977,\n",
       " 14.554224999999983,\n",
       " 7.924224999999987,\n",
       " 7.924224999999987,\n",
       " 7.924224999999987,\n",
       " 7.924224999999987,\n",
       " 3.294224999999992,\n",
       " 3.294224999999992,\n",
       " 0.6642249999999963,\n",
       " 0.6642249999999963,\n",
       " 1.4042250000000054,\n",
       " 1.4042250000000054,\n",
       " 1.4042250000000054,\n",
       " 1.4042250000000054,\n",
       " 1.4042250000000054,\n",
       " 1.4042250000000054,\n",
       " 4.77422500000001,\n",
       " 4.77422500000001,\n",
       " 4.77422500000001,\n",
       " 4.77422500000001,\n",
       " 4.77422500000001,\n",
       " 10.144225000000015,\n",
       " 10.144225000000015,\n",
       " 17.514225000000017,\n",
       " 26.884225000000022,\n",
       " 38.25422500000003,\n",
       " 38.25422500000003,\n",
       " 38.25422500000003,\n",
       " 38.25422500000003,\n",
       " 38.25422500000003,\n",
       " 51.62422500000003,\n",
       " 51.62422500000003,\n",
       " 51.62422500000003,\n",
       " 66.99422500000004,\n",
       " 84.36422500000005,\n",
       " 84.36422500000005,\n",
       " 84.36422500000005,\n",
       " 84.36422500000005,\n",
       " 84.36422500000005,\n",
       " 103.73422500000005,\n",
       " 103.73422500000005,\n",
       " 125.10422500000006,\n",
       " 125.10422500000006,\n",
       " 173.84422500000005,\n",
       " 201.21422500000006,\n",
       " 230.58422500000006,\n",
       " 230.58422500000006,\n",
       " 230.58422500000006,\n",
       " 261.95422500000006,\n",
       " 261.95422500000006,\n",
       " 261.95422500000006,\n",
       " 295.32422500000007,\n",
       " 295.32422500000007,\n",
       " 295.32422500000007,\n",
       " 295.32422500000007,\n",
       " 330.6942250000001,\n",
       " 368.0642250000001,\n",
       " 407.4342250000001,\n",
       " 448.8042250000001,\n",
       " 448.8042250000001,\n",
       " 448.8042250000001,\n",
       " 492.1742250000001,\n",
       " 492.1742250000001,\n",
       " 492.1742250000001,\n",
       " 537.5442250000001,\n",
       " 537.5442250000001,\n",
       " 584.9142250000001,\n",
       " 584.9142250000001,\n",
       " 634.2842250000001,\n",
       " 634.2842250000001,\n",
       " 634.2842250000001,\n",
       " 685.6542250000001,\n",
       " 685.6542250000001,\n",
       " 685.6542250000001,\n",
       " 739.0242250000001,\n",
       " 739.0242250000001,\n",
       " 739.0242250000001,\n",
       " 739.0242250000001,\n",
       " 851.7642250000001,\n",
       " 851.7642250000001,\n",
       " 851.7642250000001,\n",
       " 911.1342250000001,\n",
       " 972.5042250000001,\n",
       " 972.5042250000001,\n",
       " 1035.8742250000003,\n",
       " 1035.8742250000003,\n",
       " 1101.2442250000001,\n",
       " 1101.2442250000001,\n",
       " 1168.6142250000003,\n",
       " 1168.6142250000003,\n",
       " 1237.9842250000002,\n",
       " 1237.9842250000002,\n",
       " 1237.9842250000002,\n",
       " 1237.9842250000002,\n",
       " 1237.9842250000002,\n",
       " 1309.3542250000003,\n",
       " 1309.3542250000003,\n",
       " 1382.7242250000002,\n",
       " 1535.4642250000002,\n",
       " 1614.8342250000003,\n",
       " 1696.2042250000002,\n",
       " 1696.2042250000002,\n",
       " 1952.3142250000003,\n",
       " 1952.3142250000003,\n",
       " 1952.3142250000003,\n",
       " 2041.6842250000002,\n",
       " 2041.6842250000002,\n",
       " 2041.6842250000002,\n",
       " 2133.0542250000003,\n",
       " 2133.0542250000003,\n",
       " 2133.0542250000003,\n",
       " 2226.424225,\n",
       " 2226.424225,\n",
       " 2226.424225,\n",
       " 2226.424225,\n",
       " 2226.424225,\n",
       " 2226.424225]"
      ]
     },
     "execution_count": 184,
     "metadata": {},
     "output_type": "execute_result"
    }
   ],
   "source": [
    "aux = []\n",
    "for i in nums:\n",
    "    aux.append((i-media)**2)\n",
    "\n",
    "aux"
   ]
  },
  {
   "cell_type": "markdown",
   "metadata": {},
   "source": [
    "**Resultado da Variancia e o Desvio Padrão**"
   ]
  },
  {
   "cell_type": "code",
   "execution_count": 185,
   "metadata": {},
   "outputs": [
    {
     "name": "stdout",
     "output_type": "stream",
     "text": [
      "Variancia: 824.7307750000001 \n",
      "Desvio Padrão 28.718126244586365\n"
     ]
    }
   ],
   "source": [
    "s = 0\n",
    "for i in aux:\n",
    "    s += i\n",
    "\n",
    "var = s/len(nums)\n",
    "dp = var**0.5\n",
    "print(\"Variancia: {} \\nDesvio Padrão {}\".format(var, dp))"
   ]
  },
  {
   "cell_type": "code",
   "execution_count": 186,
   "metadata": {},
   "outputs": [
    {
     "data": {
      "text/html": [
       "<div>\n",
       "<style scoped>\n",
       "    .dataframe tbody tr th:only-of-type {\n",
       "        vertical-align: middle;\n",
       "    }\n",
       "\n",
       "    .dataframe tbody tr th {\n",
       "        vertical-align: top;\n",
       "    }\n",
       "\n",
       "    .dataframe thead th {\n",
       "        text-align: right;\n",
       "    }\n",
       "</style>\n",
       "<table border=\"1\" class=\"dataframe\">\n",
       "  <thead>\n",
       "    <tr style=\"text-align: right;\">\n",
       "      <th></th>\n",
       "      <th>Numeros</th>\n",
       "    </tr>\n",
       "  </thead>\n",
       "  <tbody>\n",
       "    <tr>\n",
       "      <th>0</th>\n",
       "      <td>0</td>\n",
       "    </tr>\n",
       "    <tr>\n",
       "      <th>1</th>\n",
       "      <td>0</td>\n",
       "    </tr>\n",
       "    <tr>\n",
       "      <th>2</th>\n",
       "      <td>1</td>\n",
       "    </tr>\n",
       "    <tr>\n",
       "      <th>3</th>\n",
       "      <td>1</td>\n",
       "    </tr>\n",
       "    <tr>\n",
       "      <th>4</th>\n",
       "      <td>1</td>\n",
       "    </tr>\n",
       "    <tr>\n",
       "      <th>5</th>\n",
       "      <td>2</td>\n",
       "    </tr>\n",
       "    <tr>\n",
       "      <th>6</th>\n",
       "      <td>2</td>\n",
       "    </tr>\n",
       "    <tr>\n",
       "      <th>7</th>\n",
       "      <td>3</td>\n",
       "    </tr>\n",
       "    <tr>\n",
       "      <th>8</th>\n",
       "      <td>3</td>\n",
       "    </tr>\n",
       "    <tr>\n",
       "      <th>9</th>\n",
       "      <td>4</td>\n",
       "    </tr>\n",
       "    <tr>\n",
       "      <th>10</th>\n",
       "      <td>4</td>\n",
       "    </tr>\n",
       "    <tr>\n",
       "      <th>11</th>\n",
       "      <td>4</td>\n",
       "    </tr>\n",
       "    <tr>\n",
       "      <th>12</th>\n",
       "      <td>5</td>\n",
       "    </tr>\n",
       "    <tr>\n",
       "      <th>13</th>\n",
       "      <td>6</td>\n",
       "    </tr>\n",
       "    <tr>\n",
       "      <th>14</th>\n",
       "      <td>6</td>\n",
       "    </tr>\n",
       "    <tr>\n",
       "      <th>15</th>\n",
       "      <td>7</td>\n",
       "    </tr>\n",
       "    <tr>\n",
       "      <th>16</th>\n",
       "      <td>8</td>\n",
       "    </tr>\n",
       "    <tr>\n",
       "      <th>17</th>\n",
       "      <td>8</td>\n",
       "    </tr>\n",
       "    <tr>\n",
       "      <th>18</th>\n",
       "      <td>10</td>\n",
       "    </tr>\n",
       "    <tr>\n",
       "      <th>19</th>\n",
       "      <td>11</td>\n",
       "    </tr>\n",
       "    <tr>\n",
       "      <th>20</th>\n",
       "      <td>12</td>\n",
       "    </tr>\n",
       "    <tr>\n",
       "      <th>21</th>\n",
       "      <td>12</td>\n",
       "    </tr>\n",
       "    <tr>\n",
       "      <th>22</th>\n",
       "      <td>13</td>\n",
       "    </tr>\n",
       "    <tr>\n",
       "      <th>23</th>\n",
       "      <td>14</td>\n",
       "    </tr>\n",
       "    <tr>\n",
       "      <th>24</th>\n",
       "      <td>14</td>\n",
       "    </tr>\n",
       "    <tr>\n",
       "      <th>25</th>\n",
       "      <td>15</td>\n",
       "    </tr>\n",
       "    <tr>\n",
       "      <th>26</th>\n",
       "      <td>15</td>\n",
       "    </tr>\n",
       "    <tr>\n",
       "      <th>27</th>\n",
       "      <td>15</td>\n",
       "    </tr>\n",
       "    <tr>\n",
       "      <th>28</th>\n",
       "      <td>16</td>\n",
       "    </tr>\n",
       "    <tr>\n",
       "      <th>29</th>\n",
       "      <td>18</td>\n",
       "    </tr>\n",
       "    <tr>\n",
       "      <th>...</th>\n",
       "      <td>...</td>\n",
       "    </tr>\n",
       "    <tr>\n",
       "      <th>170</th>\n",
       "      <td>86</td>\n",
       "    </tr>\n",
       "    <tr>\n",
       "      <th>171</th>\n",
       "      <td>87</td>\n",
       "    </tr>\n",
       "    <tr>\n",
       "      <th>172</th>\n",
       "      <td>87</td>\n",
       "    </tr>\n",
       "    <tr>\n",
       "      <th>173</th>\n",
       "      <td>88</td>\n",
       "    </tr>\n",
       "    <tr>\n",
       "      <th>174</th>\n",
       "      <td>88</td>\n",
       "    </tr>\n",
       "    <tr>\n",
       "      <th>175</th>\n",
       "      <td>88</td>\n",
       "    </tr>\n",
       "    <tr>\n",
       "      <th>176</th>\n",
       "      <td>88</td>\n",
       "    </tr>\n",
       "    <tr>\n",
       "      <th>177</th>\n",
       "      <td>88</td>\n",
       "    </tr>\n",
       "    <tr>\n",
       "      <th>178</th>\n",
       "      <td>89</td>\n",
       "    </tr>\n",
       "    <tr>\n",
       "      <th>179</th>\n",
       "      <td>89</td>\n",
       "    </tr>\n",
       "    <tr>\n",
       "      <th>180</th>\n",
       "      <td>90</td>\n",
       "    </tr>\n",
       "    <tr>\n",
       "      <th>181</th>\n",
       "      <td>92</td>\n",
       "    </tr>\n",
       "    <tr>\n",
       "      <th>182</th>\n",
       "      <td>93</td>\n",
       "    </tr>\n",
       "    <tr>\n",
       "      <th>183</th>\n",
       "      <td>94</td>\n",
       "    </tr>\n",
       "    <tr>\n",
       "      <th>184</th>\n",
       "      <td>94</td>\n",
       "    </tr>\n",
       "    <tr>\n",
       "      <th>185</th>\n",
       "      <td>97</td>\n",
       "    </tr>\n",
       "    <tr>\n",
       "      <th>186</th>\n",
       "      <td>97</td>\n",
       "    </tr>\n",
       "    <tr>\n",
       "      <th>187</th>\n",
       "      <td>97</td>\n",
       "    </tr>\n",
       "    <tr>\n",
       "      <th>188</th>\n",
       "      <td>98</td>\n",
       "    </tr>\n",
       "    <tr>\n",
       "      <th>189</th>\n",
       "      <td>98</td>\n",
       "    </tr>\n",
       "    <tr>\n",
       "      <th>190</th>\n",
       "      <td>98</td>\n",
       "    </tr>\n",
       "    <tr>\n",
       "      <th>191</th>\n",
       "      <td>99</td>\n",
       "    </tr>\n",
       "    <tr>\n",
       "      <th>192</th>\n",
       "      <td>99</td>\n",
       "    </tr>\n",
       "    <tr>\n",
       "      <th>193</th>\n",
       "      <td>99</td>\n",
       "    </tr>\n",
       "    <tr>\n",
       "      <th>194</th>\n",
       "      <td>100</td>\n",
       "    </tr>\n",
       "    <tr>\n",
       "      <th>195</th>\n",
       "      <td>100</td>\n",
       "    </tr>\n",
       "    <tr>\n",
       "      <th>196</th>\n",
       "      <td>100</td>\n",
       "    </tr>\n",
       "    <tr>\n",
       "      <th>197</th>\n",
       "      <td>100</td>\n",
       "    </tr>\n",
       "    <tr>\n",
       "      <th>198</th>\n",
       "      <td>100</td>\n",
       "    </tr>\n",
       "    <tr>\n",
       "      <th>199</th>\n",
       "      <td>100</td>\n",
       "    </tr>\n",
       "  </tbody>\n",
       "</table>\n",
       "<p>200 rows × 1 columns</p>\n",
       "</div>"
      ],
      "text/plain": [
       "     Numeros\n",
       "0          0\n",
       "1          0\n",
       "2          1\n",
       "3          1\n",
       "4          1\n",
       "5          2\n",
       "6          2\n",
       "7          3\n",
       "8          3\n",
       "9          4\n",
       "10         4\n",
       "11         4\n",
       "12         5\n",
       "13         6\n",
       "14         6\n",
       "15         7\n",
       "16         8\n",
       "17         8\n",
       "18        10\n",
       "19        11\n",
       "20        12\n",
       "21        12\n",
       "22        13\n",
       "23        14\n",
       "24        14\n",
       "25        15\n",
       "26        15\n",
       "27        15\n",
       "28        16\n",
       "29        18\n",
       "..       ...\n",
       "170       86\n",
       "171       87\n",
       "172       87\n",
       "173       88\n",
       "174       88\n",
       "175       88\n",
       "176       88\n",
       "177       88\n",
       "178       89\n",
       "179       89\n",
       "180       90\n",
       "181       92\n",
       "182       93\n",
       "183       94\n",
       "184       94\n",
       "185       97\n",
       "186       97\n",
       "187       97\n",
       "188       98\n",
       "189       98\n",
       "190       98\n",
       "191       99\n",
       "192       99\n",
       "193       99\n",
       "194      100\n",
       "195      100\n",
       "196      100\n",
       "197      100\n",
       "198      100\n",
       "199      100\n",
       "\n",
       "[200 rows x 1 columns]"
      ]
     },
     "execution_count": 186,
     "metadata": {},
     "output_type": "execute_result"
    }
   ],
   "source": [
    "df2 = pd.DataFrame({'Numeros':nums})\n",
    "df2"
   ]
  },
  {
   "cell_type": "markdown",
   "metadata": {},
   "source": [
    "**Mean representa a média**"
   ]
  },
  {
   "cell_type": "code",
   "execution_count": 187,
   "metadata": {},
   "outputs": [
    {
     "data": {
      "text/html": [
       "<div>\n",
       "<style scoped>\n",
       "    .dataframe tbody tr th:only-of-type {\n",
       "        vertical-align: middle;\n",
       "    }\n",
       "\n",
       "    .dataframe tbody tr th {\n",
       "        vertical-align: top;\n",
       "    }\n",
       "\n",
       "    .dataframe thead th {\n",
       "        text-align: right;\n",
       "    }\n",
       "</style>\n",
       "<table border=\"1\" class=\"dataframe\">\n",
       "  <thead>\n",
       "    <tr style=\"text-align: right;\">\n",
       "      <th></th>\n",
       "      <th>Numeros</th>\n",
       "    </tr>\n",
       "  </thead>\n",
       "  <tbody>\n",
       "    <tr>\n",
       "      <th>count</th>\n",
       "      <td>200.000000</td>\n",
       "    </tr>\n",
       "    <tr>\n",
       "      <th>mean</th>\n",
       "      <td>52.815000</td>\n",
       "    </tr>\n",
       "    <tr>\n",
       "      <th>std</th>\n",
       "      <td>28.790192</td>\n",
       "    </tr>\n",
       "    <tr>\n",
       "      <th>min</th>\n",
       "      <td>0.000000</td>\n",
       "    </tr>\n",
       "    <tr>\n",
       "      <th>25%</th>\n",
       "      <td>30.000000</td>\n",
       "    </tr>\n",
       "    <tr>\n",
       "      <th>50%</th>\n",
       "      <td>55.000000</td>\n",
       "    </tr>\n",
       "    <tr>\n",
       "      <th>75%</th>\n",
       "      <td>77.000000</td>\n",
       "    </tr>\n",
       "    <tr>\n",
       "      <th>max</th>\n",
       "      <td>100.000000</td>\n",
       "    </tr>\n",
       "  </tbody>\n",
       "</table>\n",
       "</div>"
      ],
      "text/plain": [
       "          Numeros\n",
       "count  200.000000\n",
       "mean    52.815000\n",
       "std     28.790192\n",
       "min      0.000000\n",
       "25%     30.000000\n",
       "50%     55.000000\n",
       "75%     77.000000\n",
       "max    100.000000"
      ]
     },
     "execution_count": 187,
     "metadata": {},
     "output_type": "execute_result"
    }
   ],
   "source": [
    "df2.describe()"
   ]
  },
  {
   "cell_type": "markdown",
   "metadata": {},
   "source": [
    "**Mediana**"
   ]
  },
  {
   "cell_type": "code",
   "execution_count": 188,
   "metadata": {},
   "outputs": [
    {
     "data": {
      "text/plain": [
       "Numeros    55.0\n",
       "dtype: float64"
      ]
     },
     "execution_count": 188,
     "metadata": {},
     "output_type": "execute_result"
    }
   ],
   "source": [
    "df2.median()\n"
   ]
  },
  {
   "cell_type": "markdown",
   "metadata": {},
   "source": [
    "**Moda**"
   ]
  },
  {
   "cell_type": "code",
   "execution_count": 189,
   "metadata": {},
   "outputs": [
    {
     "data": {
      "text/html": [
       "<div>\n",
       "<style scoped>\n",
       "    .dataframe tbody tr th:only-of-type {\n",
       "        vertical-align: middle;\n",
       "    }\n",
       "\n",
       "    .dataframe tbody tr th {\n",
       "        vertical-align: top;\n",
       "    }\n",
       "\n",
       "    .dataframe thead th {\n",
       "        text-align: right;\n",
       "    }\n",
       "</style>\n",
       "<table border=\"1\" class=\"dataframe\">\n",
       "  <thead>\n",
       "    <tr style=\"text-align: right;\">\n",
       "      <th></th>\n",
       "      <th>Numeros</th>\n",
       "    </tr>\n",
       "  </thead>\n",
       "  <tbody>\n",
       "    <tr>\n",
       "      <th>0</th>\n",
       "      <td>54</td>\n",
       "    </tr>\n",
       "    <tr>\n",
       "      <th>1</th>\n",
       "      <td>100</td>\n",
       "    </tr>\n",
       "  </tbody>\n",
       "</table>\n",
       "</div>"
      ],
      "text/plain": [
       "   Numeros\n",
       "0       54\n",
       "1      100"
      ]
     },
     "execution_count": 189,
     "metadata": {},
     "output_type": "execute_result"
    }
   ],
   "source": [
    "df2.mode()"
   ]
  },
  {
   "cell_type": "markdown",
   "metadata": {},
   "source": [
    "**Histograma dos valores**"
   ]
  },
  {
   "cell_type": "code",
   "execution_count": 190,
   "metadata": {},
   "outputs": [
    {
     "data": {
      "text/plain": [
       "<matplotlib.axes._subplots.AxesSubplot at 0x213c87d7a20>"
      ]
     },
     "execution_count": 190,
     "metadata": {},
     "output_type": "execute_result"
    },
    {
     "data": {
      "image/png": "[encoded data removed]",
      "text/plain": [
       "<Figure size 576x576 with 1 Axes>"
      ]
     },
     "metadata": {
      "needs_background": "light"
     },
     "output_type": "display_data"
    }
   ],
   "source": [
    "df2.plot(kind='hist', figsize=(8,8))"
   ]
  },
  {
   "cell_type": "markdown",
   "metadata": {},
   "source": [
    "**Diferença de cada ponto para a média do gráfico**"
   ]
  },
  {
   "cell_type": "code",
   "execution_count": 191,
   "metadata": {},
   "outputs": [
    {
     "data": {
      "text/plain": [
       "<matplotlib.lines.Line2D at 0x213c8b46f28>"
      ]
     },
     "execution_count": 191,
     "metadata": {},
     "output_type": "execute_result"
    },
    {
     "data": {
      "image/png": "[encoded data removed]",
      "text/plain": [
       "<Figure size 720x720 with 1 Axes>"
      ]
     },
     "metadata": {
      "needs_background": "light"
     },
     "output_type": "display_data"
    }
   ],
   "source": [
    "media = df2.mean()\n",
    "df2.plot(style='o' ,figsize=(10,10)).axhline(float(media), color='r', linestyle='--')"
   ]
  },
  {
   "cell_type": "markdown",
   "metadata": {},
   "source": [
    "## Correlação e Regressão sem Pandas"
   ]
  },
  {
   "cell_type": "markdown",
   "metadata": {},
   "source": [
    "$$\\LARGE{r = \\frac{\\sum\\limits_{i=1}^{i} X{i}Y{i} - n\\bar{X}\\bar{Y}} {(n-1) S{x}S{y}}}$$"
   ]
  },
  {
   "cell_type": "code",
   "execution_count": 207,
   "metadata": {},
   "outputs": [
    {
     "data": {
      "text/plain": [
       "[<matplotlib.lines.Line2D at 0x213c99692e8>]"
      ]
     },
     "execution_count": 207,
     "metadata": {},
     "output_type": "execute_result"
    },
    {
     "data": {
      "image/png": "[encoded data removed]",
      "text/plain": [
       "<Figure size 720x720 with 1 Axes>"
      ]
     },
     "metadata": {
      "needs_background": "light"
     },
     "output_type": "display_data"
    }
   ],
   "source": [
    "massa_muscular = [82.0, 91.0,100.0,68.0,87.0,73.0,78.0,80.0,65.0,84.0,116.0,76.0,97.0,100.0,105.0,77.0,73.0,78.0]\n",
    "idade = [71.0,64.0,43.0,67.0,56.0,73.0,68.0,56.0,76.0,65.0,45.0,58.0,45.0,53.0,49.0,78.0,73.0,68.0]\n",
    "\n",
    "plt.figure(figsize=(10,10))\n",
    "plt.axis([30,100, 50, 120])\n",
    "plt.title('Dispersão')\n",
    "plt.xlabel('idade')\n",
    "plt.ylabel('Massa')\n",
    "plt.plot(idade, massa_muscular, 'o')"
   ]
  },
  {
   "cell_type": "markdown",
   "metadata": {},
   "source": [
    "**Soma dos valores**"
   ]
  },
  {
   "cell_type": "code",
   "execution_count": 193,
   "metadata": {},
   "outputs": [],
   "source": [
    "soma_idade = 0\n",
    "soma_massa = 0\n",
    "for i in idade:\n",
    "    soma_idade += i\n",
    "    \n",
    "for i in massa_muscular:\n",
    "    soma_massa += i\n"
   ]
  },
  {
   "cell_type": "markdown",
   "metadata": {},
   "source": [
    "**Média e Desvio Padrão**"
   ]
  },
  {
   "cell_type": "code",
   "execution_count": 194,
   "metadata": {},
   "outputs": [],
   "source": [
    "media_idade = soma_idade/len(idade)\n",
    "media_massa = soma_massa/len(massa_muscular)\n",
    "\n",
    "## IDADE\n",
    "soma = 0\n",
    "for i in idade:\n",
    "    soma += (i - media_idade)**2\n",
    "\n",
    "div_i = soma/len(idade)\n",
    "desvio_idade = div_i**(1/2)\n",
    "\n",
    "## Massa\n",
    "soma = 0\n",
    "for i in massa_muscular:\n",
    "    soma += (i- media_massa)**2\n",
    "    \n",
    "div_m = soma/len(massa_muscular)\n",
    "desvio_massa = div_m**(1/2)\n",
    "\n"
   ]
  },
  {
   "cell_type": "markdown",
   "metadata": {},
   "source": [
    "**Correlação**\n"
   ]
  },
  {
   "cell_type": "code",
   "execution_count": 195,
   "metadata": {},
   "outputs": [
    {
     "name": "stdout",
     "output_type": "stream",
     "text": [
      "91964.0\n"
     ]
    },
    {
     "data": {
      "text/plain": [
       "-0.8858929015742787"
      ]
     },
     "execution_count": 195,
     "metadata": {},
     "output_type": "execute_result"
    }
   ],
   "source": [
    "## sum(x*y)\n",
    "n = len(idade)\n",
    "\n",
    "soma_xy = 0\n",
    "for i in range(n):\n",
    "    soma_xy += idade[i] * massa_muscular[i]\n",
    "\n",
    "print(soma_xy)    \n",
    "aux = soma_xy - n*media_idade*media_massa\n",
    "divisor = (n-1) * desvio_idade * desvio_massa\n",
    "r = aux / divisor\n",
    "r\n"
   ]
  },
  {
   "cell_type": "markdown",
   "metadata": {},
   "source": [
    "**/\\ Correlação Linear negativa**"
   ]
  },
  {
   "cell_type": "markdown",
   "metadata": {},
   "source": [
    "**Reta Ajustada**"
   ]
  },
  {
   "cell_type": "markdown",
   "metadata": {},
   "source": [
    "$$\\LARGE{b =\\frac{\\sum\\limits_{i=1}^{n}X{i}Y{i} - n\\bar{X}\\bar{Y}}{(n-1) S_{x}^{2}}} $$"
   ]
  },
  {
   "cell_type": "markdown",
   "metadata": {},
   "source": [
    "$$\\LARGE{a = \\bar{Y} - b \\bar{X}}$$"
   ]
  },
  {
   "cell_type": "markdown",
   "metadata": {},
   "source": [
    "$$\\Large{Y = a +bx}$$"
   ]
  },
  {
   "cell_type": "code",
   "execution_count": 196,
   "metadata": {},
   "outputs": [
    {
     "name": "stdout",
     "output_type": "stream",
     "text": [
      "Valor de b: -1.0870573700498425\n"
     ]
    }
   ],
   "source": [
    "\n",
    "b = aux / ((n-1) *  desvio_idade**2)\n",
    "print(\"Valor de b:\", b)"
   ]
  },
  {
   "cell_type": "code",
   "execution_count": 197,
   "metadata": {},
   "outputs": [
    {
     "name": "stdout",
     "output_type": "stream",
     "text": [
      "Valor de a:  151.9144203341792\n"
     ]
    }
   ],
   "source": [
    "a = media_massa - b * media_idade\n",
    "print('Valor de a: ',a)"
   ]
  },
  {
   "cell_type": "code",
   "execution_count": 218,
   "metadata": {},
   "outputs": [],
   "source": [
    "\n",
    "pontos = []\n",
    "\n",
    "for x in idade:\n",
    "    y = a + b * x\n",
    "    pontos.append(y)\n",
    "\n"
   ]
  },
  {
   "cell_type": "code",
   "execution_count": 224,
   "metadata": {},
   "outputs": [
    {
     "data": {
      "text/plain": [
       "[<matplotlib.lines.Line2D at 0x213ca8751d0>]"
      ]
     },
     "execution_count": 224,
     "metadata": {},
     "output_type": "execute_result"
    },
    {
     "data": {
      "image/png": "[encoded data removed]",
      "text/plain": [
       "<Figure size 720x720 with 1 Axes>"
      ]
     },
     "metadata": {
      "needs_background": "light"
     },
     "output_type": "display_data"
    }
   ],
   "source": [
    "plt.figure(figsize=(10,10))\n",
    "plt.axis([30,100, 50, 150])\n",
    "plt.text(35, 140, 'y = %.2f + %.2f x'%(a, b) , {'color': 'orange', 'fontsize': 20})\n",
    "plt.title('Regressão Linear')\n",
    "plt.plot(idade, massa_muscular, 'o')\n",
    "plt.plot(idade, pontos, '--')"
   ]
  }
 ],
 "metadata": {
  "kernelspec": {
   "display_name": "Python 3",
   "language": "python",
   "name": "python3"
  },
  "language_info": {
   "codemirror_mode": {
    "name": "ipython",
    "version": 3
   },
   "file_extension": ".py",
   "mimetype": "text/x-python",
   "name": "python",
   "nbconvert_exporter": "python",
   "pygments_lexer": "ipython3",
   "version": "3.6.5"
  }
 },
 "nbformat": 4,
 "nbformat_minor": 2
}
